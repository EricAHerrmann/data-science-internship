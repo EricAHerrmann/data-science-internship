{
 "cells": [
  {
   "cell_type": "markdown",
   "metadata": {
    "collapsed": true
   },
   "source": [
    "Output for this file is a .py file containing a collection of dictionaries, titled 'users.py'"
   ]
  },
  {
   "cell_type": "code",
   "execution_count": 1,
   "metadata": {
    "collapsed": true
   },
   "outputs": [],
   "source": [
    "#import statements\n",
    "from input_data import INPUT_DATA as data"
   ]
  },
  {
   "cell_type": "code",
   "execution_count": 2,
   "metadata": {
    "collapsed": true
   },
   "outputs": [],
   "source": [
    "users = [] #this will be the output data, composed of dictionaries of the format {'user_id': (int) user ID, event type: (int) count}\n",
    "\n",
    "event_names = []\n",
    "#iterates throught input data\n",
    "for log in data: \n",
    "    #creating array of event names\n",
    "    event = log['event']  \n",
    "    event_names.append(event)\n",
    "    \n",
    "    #find all unique users by ID\n",
    "    user = log['properties']\n",
    "    if user not in users:\n",
    "        users.append(user)"
   ]
  },
  {
   "cell_type": "code",
   "execution_count": 3,
   "metadata": {
    "collapsed": true
   },
   "outputs": [],
   "source": [
    "#find all possible event types in collection\n",
    "event_types = set(event_names)"
   ]
  },
  {
   "cell_type": "code",
   "execution_count": 4,
   "metadata": {
    "collapsed": true
   },
   "outputs": [],
   "source": [
    "#adding keys for each event type, where the values of each event type represents the count for each user\n",
    "#format: {event type: (int) count}\n",
    "#initialized all counts to 0\n",
    "for user in users:\n",
    "    user.update({event_type: 0 for event_type in event_types})"
   ]
  },
  {
   "cell_type": "code",
   "execution_count": 5,
   "metadata": {
    "collapsed": true
   },
   "outputs": [],
   "source": [
    "#goes through input data again, matches each event log to a user (through ID), and increases the count for that event type on that user's dictionary\n",
    "for log in data: \n",
    "    event_type = log['event']\n",
    "    user = log['properties'].get('user_id')\n",
    "    #create a temporary static copy \n",
    "    temp = users[user].copy()\n",
    "    #increase the event type count\n",
    "    temp[event_type] += 1\n",
    "    #copy the temporary dictionary back into the output collection\n",
    "    users[user] = temp\n",
    "\n",
    "#error checking, ensure that num logs is equal to the total count\n",
    "total_count = 0\n",
    "for user in users:\n",
    "    total_count += sum(user.values()) - user['user_id']    \n",
    "assert(total_count == len(data)), \"size mismatch error\"\n",
    "\n",
    "#return output, a collection of dictionaries with keys for user_ids and for the amount of times that user triggered each event\n",
    "with open('users.py', 'w') as out:\n",
    "    print('users =', users, file = out)"
   ]
  }
 ],
 "metadata": {
  "kernelspec": {
   "display_name": "Python 3",
   "language": "python",
   "name": "python3"
  },
  "language_info": {
   "codemirror_mode": {
    "name": "ipython",
    "version": 3
   },
   "file_extension": ".py",
   "mimetype": "text/x-python",
   "name": "python",
   "nbconvert_exporter": "python",
   "pygments_lexer": "ipython3",
   "version": "3.6.1"
  }
 },
 "nbformat": 4,
 "nbformat_minor": 2
}
